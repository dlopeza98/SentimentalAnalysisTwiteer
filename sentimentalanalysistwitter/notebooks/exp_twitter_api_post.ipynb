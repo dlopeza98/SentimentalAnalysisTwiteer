{
 "cells": [
  {
   "cell_type": "markdown",
   "metadata": {},
   "source": [
    "# Exploration Twitter API - Post Tweets"
   ]
  },
  {
   "cell_type": "markdown",
   "metadata": {},
   "source": [
    "## Importing Libraries"
   ]
  },
  {
   "cell_type": "code",
   "execution_count": 1,
   "metadata": {},
   "outputs": [],
   "source": [
    "import requests\n",
    "from requests_oauthlib import OAuth1Session\n",
    "import os\n",
    "import json\n",
    "from requests_oauthlib import OAuth1\n",
    "from dotenv import load_dotenv"
   ]
  },
  {
   "cell_type": "markdown",
   "metadata": {},
   "source": [
    "## Configure env vars\n",
    "\n",
    "Son las Keys correspondientes al proyecto de twitter developer (https://developer.twitter.com/en/portal/dashboard)"
   ]
  },
  {
   "cell_type": "code",
   "execution_count": 2,
   "metadata": {},
   "outputs": [
    {
     "data": {
      "text/plain": [
       "True"
      ]
     },
     "execution_count": 2,
     "metadata": {},
     "output_type": "execute_result"
    }
   ],
   "source": [
    "load_dotenv()"
   ]
  },
  {
   "cell_type": "code",
   "execution_count": 4,
   "metadata": {},
   "outputs": [],
   "source": [
    "consumer_key=os.getenv(\"consumer_key\")  #API KEY\n",
    "consumer_secret=os.getenv(\"consumer_secret\") #API KEY SECRET\n",
    "access_token=os.getenv(\"access_token\")  #ACCESS TOKEN\n",
    "access_token_secret=os.getenv(\"access_token_secret\") #ACCESS TOKEN SECRET"
   ]
  },
  {
   "cell_type": "code",
   "execution_count": 5,
   "metadata": {},
   "outputs": [
    {
     "name": "stdout",
     "output_type": "stream",
     "text": [
      "7bnWSpqoZ2YLcDt9ilcZpXrqQ\n",
      "58S5eOrlu2bsPPEnaDQSlAqzkzhBUrT9Rn5i2JhFll4SwL0DQa\n",
      "1753897984901718016-f2mifsnO2P8llefe9a4UumrLG8NzEw\n",
      "Z3ixTRH9YkQ1sYdEeRaVUmCLm6zXlqM1gnVTX94H6juW3\n"
     ]
    }
   ],
   "source": [
    "list_keys=[consumer_key, consumer_secret, access_token, access_token_secret]\n",
    "\n",
    "for k in list_keys:\n",
    "    print(k)"
   ]
  },
  {
   "cell_type": "markdown",
   "metadata": {},
   "source": [
    "## Options to Post Tweets"
   ]
  },
  {
   "cell_type": "markdown",
   "metadata": {},
   "source": [
    "### 1. Con doble factor\n",
    "\n",
    "Requiere insertar de manera manual un código de aprobación de la publicación.\n",
    "\n"
   ]
  },
  {
   "cell_type": "code",
   "execution_count": 7,
   "metadata": {},
   "outputs": [],
   "source": [
    "def post_tweet_2auth(text, keys):\n",
    "    \"\"\"\n",
    "    Tihs function takes a text and post it as a tweet.\n",
    "\n",
    "    args:\n",
    "    text(str): Text to be publicated in Tweeter as a Tweet\n",
    "\n",
    "    output:\n",
    "    Result of the request\n",
    "    \"\"\"\n",
    "\n",
    "    # Be sure to add replace the text of the with the text you wish to Tweet. You can also add parameters to post polls, quote Tweets, Tweet with reply settings, and Tweet to Super Followers in addition to other features.\n",
    "    payload = {\"text\": text}\n",
    "\n",
    "    # Get request token\n",
    "    request_token_url = \"https://api.twitter.com/oauth/request_token?oauth_callback=oob&x_auth_access_type=write\"\n",
    "\n",
    "    oauth = OAuth1Session(\n",
    "        list_keys[0], \n",
    "        client_secret=list_keys[1],\n",
    "        resource_owner_key=list_keys[2],\n",
    "        resource_owner_secret=list_keys[3]\n",
    "    )\n",
    "\n",
    "    try:\n",
    "        fetch_response = oauth.fetch_request_token(request_token_url)\n",
    "    except ValueError:\n",
    "        print(\n",
    "            \"There may have been an issue with the consumer_key or consumer_secret you entered.\"\n",
    "        )\n",
    "\n",
    "    resource_owner_key = fetch_response.get(\"oauth_token\")\n",
    "    resource_owner_secret = fetch_response.get(\"oauth_token_secret\")\n",
    "    print(\"Got OAuth token: %s\" % resource_owner_key)\n",
    "\n",
    "    # Get authorization\n",
    "    base_authorization_url = \"https://api.twitter.com/oauth/authorize\"\n",
    "    authorization_url = oauth.authorization_url(base_authorization_url)\n",
    "    print(\"Please go here and authorize: %s\" % authorization_url)\n",
    "    verifier = input(\"Paste the PIN here: \")\n",
    "\n",
    "    # Get the access token\n",
    "    access_token_url = \"https://api.twitter.com/oauth/access_token\"\n",
    "    oauth = OAuth1Session(\n",
    "        consumer_key,\n",
    "        client_secret=consumer_secret,\n",
    "        resource_owner_key=resource_owner_key,\n",
    "        resource_owner_secret=resource_owner_secret,\n",
    "        verifier=verifier,\n",
    "    )\n",
    "    oauth_tokens = oauth.fetch_access_token(access_token_url)\n",
    "\n",
    "    access_token = oauth_tokens[\"oauth_token\"]\n",
    "    access_token_secret = oauth_tokens[\"oauth_token_secret\"]\n",
    "\n",
    "    # Make the request\n",
    "    oauth = OAuth1Session(\n",
    "        consumer_key,\n",
    "        client_secret=consumer_secret,\n",
    "        resource_owner_key=access_token,\n",
    "        resource_owner_secret=access_token_secret,\n",
    "    )\n",
    "\n",
    "    # Making the request\n",
    "    response = oauth.post(\n",
    "        \"https://api.twitter.com/2/tweets\",\n",
    "        json=payload,\n",
    "    )\n",
    "\n",
    "    if response.status_code != 201:\n",
    "        raise Exception(\n",
    "            \"Request returned an error: {} {}\".format(response.status_code, response.text)\n",
    "        )\n",
    "\n",
    "    print(\"Response code: {}\".format(response.status_code))\n",
    "\n",
    "    # Saving the response as JSON\n",
    "    json_response = response.json()\n",
    "    print(json.dumps(json_response, indent=4, sort_keys=True))"
   ]
  },
  {
   "cell_type": "code",
   "execution_count": 8,
   "metadata": {},
   "outputs": [
    {
     "name": "stdout",
     "output_type": "stream",
     "text": [
      "Got OAuth token: sKOPiwAAAAABsOMzAAABjZnUKr4\n",
      "Please go here and authorize: https://api.twitter.com/oauth/authorize?oauth_token=sKOPiwAAAAABsOMzAAABjZnUKr4\n",
      "Response code: 201\n",
      "{\n",
      "    \"data\": {\n",
      "        \"edit_history_tweet_ids\": [\n",
      "            \"1756775317920739508\"\n",
      "        ],\n",
      "        \"id\": \"1756775317920739508\",\n",
      "        \"text\": \"Testing hashtags #Python\"\n",
      "    }\n",
      "}\n"
     ]
    }
   ],
   "source": [
    "post_tweet_2auth(\"Testing hashtags #Python\",list_keys)"
   ]
  },
  {
   "cell_type": "code",
   "execution_count": 8,
   "metadata": {},
   "outputs": [
    {
     "name": "stdout",
     "output_type": "stream",
     "text": [
      "Tweet publicado con éxito.\n"
     ]
    }
   ],
   "source": [
    "import requests\n",
    "from requests_oauthlib import OAuth1\n",
    "\n",
    "# Tus credenciales de la API de Twitter\n",
    "consumer_key=os.getenv(\"consumer_key\")  #API KEY\n",
    "consumer_secret=os.getenv(\"consumer_secret\") #API KEY SECRET\n",
    "access_token=os.getenv(\"access_token\")  #ACCESS TOKEN\n",
    "access_token_secret=os.getenv(\"access_token_secret\") #ACCESS TOKEN SECRET\n",
    "\n",
    "# La URL para la API de publicación de tweets\n",
    "url = 'https://api.twitter.com/2/tweets'\n",
    "\n",
    "# El texto del tweet\n",
    "payload = {\"text\": \"Hola GPT\"}\n",
    "\n",
    "# Crear una sesión OAuth para autenticar tu solicitud\n",
    "auth = OAuth1(\n",
    "    consumer_key, \n",
    "    consumer_secret, \n",
    "    access_token, \n",
    "    access_token_secret\n",
    ")\n",
    "\n",
    "# Realizar la solicitud POST\n",
    "response = requests.post(url, json=payload, auth=auth)\n",
    "\n",
    "# Verificar y mostrar la respuesta\n",
    "if response.status_code == 201:\n",
    "    print(\"Tweet publicado con éxito.\")\n",
    "else:\n",
    "    print(f\"Error al publicar el tweet: {response.status_code}\", response.text)\n"
   ]
  },
  {
   "cell_type": "code",
   "execution_count": 9,
   "metadata": {},
   "outputs": [],
   "source": [
    "import tweepy\n",
    "\n",
    "def post_tweets_with_tweepy(text):\n",
    "\n",
    "    # Tus credenciales de la API de Twitter\n",
    "    consumer_key=os.getenv(\"consumer_key\")  #API KEY\n",
    "    consumer_secret=os.getenv(\"consumer_secret\") #API KEY SECRET\n",
    "    access_token=os.getenv(\"access_token\")  #ACCESS TOKEN\n",
    "    access_token_secret=os.getenv(\"access_token_secret\") #ACCESS TOKEN SECRET\n",
    "\n",
    "\n",
    "    client=tweepy.Client(\n",
    "        consumer_key=consumer_key,\n",
    "        consumer_secret=consumer_secret,\n",
    "        access_token=access_token,\n",
    "        access_token_secret=access_token_secret,\n",
    "    )\n",
    "\n",
    "    response=client.create_tweet(\n",
    "        text= \"Hello World!\"\n",
    "    )\n",
    "    # Verificar y mostrar la respuesta\n",
    "    if response.status_code == 201:\n",
    "        print(\"Tweet publicado con éxito.\")\n",
    "    else:\n",
    "        print(f\"Error al publicar el tweet: {response.status_code}\", response.text)"
   ]
  },
  {
   "cell_type": "code",
   "execution_count": 9,
   "metadata": {},
   "outputs": [
    {
     "name": "stdout",
     "output_type": "stream",
     "text": [
      "Response code: 201\n",
      "{\n",
      "    \"data\": {\n",
      "        \"edit_history_tweet_ids\": [\n",
      "            \"1756742361441243538\"\n",
      "        ],\n",
      "        \"id\": \"1756742361441243538\",\n",
      "        \"text\": \"aaaa\\u00a1Hola, Twitter! Publicando mi segundo tweet con la API de Twitter v2 utilizando python.\"\n",
      "    }\n",
      "}\n"
     ]
    }
   ],
   "source": [
    "\n",
    "# In your terminal please set your environment variables by running the following lines of code.\n",
    "# export 'CONSUMER_KEY'='<your_consumer_key>'\n",
    "# export 'CONSUMER_SECRET'='<your_consumer_secret>'\n",
    "\n",
    "consumer_key=os.getenv(\"consumer_key\")  #API KEY\n",
    "consumer_secret=os.getenv(\"consumer_secret\") #API KEY SECRET\n",
    "access_token=os.getenv(\"access_token\")  #ACCESS TOKEN\n",
    "access_token_secret=os.getenv(\"access_token_secret\") #ACCESS TOKEN SECRET\n",
    "\n",
    "# Be sure to add replace the text of the with the text you wish to Tweet. You can also add parameters to post polls, quote Tweets, Tweet with reply settings, and Tweet to Super Followers in addition to other features.\n",
    "payload = {\"text\": \"aaaa¡Hola, Twitter! Publicando mi segundo tweet con la API de Twitter v2 utilizando python.\"}\n",
    "\n",
    "# Get request token\n",
    "#request_token_url = \"https://api.twitter.com/oauth/request_token?oauth_callback=oob&x_auth_access_type=write\"\n",
    "\n",
    "oauth = OAuth1Session(\n",
    "    consumer_key, \n",
    "    client_secret=consumer_secret,\n",
    "    resource_owner_key=access_token,\n",
    "    resource_owner_secret=access_token_secret\n",
    ")\n",
    "\n",
    "# Realiza la petición de publicación de tweet\n",
    "response = oauth.post(\n",
    "    \"https://api.twitter.com/2/tweets\",\n",
    "    json=payload,\n",
    ")\n",
    "\n",
    "# Verifica el estado de la respuesta\n",
    "if response.status_code != 201:\n",
    "    raise Exception(\n",
    "        \"Request returned an error: {} {}\".format(response.status_code, response.text)\n",
    "    )\n",
    "\n",
    "print(\"Response code: {}\".format(response.status_code))\n",
    "\n",
    "# Imprime la respuesta JSON\n",
    "json_response = response.json()\n",
    "print(json.dumps(json_response, indent=4, sort_keys=True))"
   ]
  }
 ],
 "metadata": {
  "kernelspec": {
   "display_name": "SentimentalAnalysisTwiteer-vbM01PMu",
   "language": "python",
   "name": "python3"
  },
  "language_info": {
   "codemirror_mode": {
    "name": "ipython",
    "version": 3
   },
   "file_extension": ".py",
   "mimetype": "text/x-python",
   "name": "python",
   "nbconvert_exporter": "python",
   "pygments_lexer": "ipython3",
   "version": "3.11.5"
  }
 },
 "nbformat": 4,
 "nbformat_minor": 2
}
